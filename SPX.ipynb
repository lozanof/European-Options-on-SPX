{
 "cells": [
  {
   "cell_type": "markdown",
   "metadata": {},
   "source": [
    "## European Options on SPX"
   ]
  },
  {
   "cell_type": "markdown",
   "metadata": {},
   "source": [
    "### Getting the data"
   ]
  },
  {
   "cell_type": "code",
   "execution_count": 904,
   "metadata": {},
   "outputs": [],
   "source": [
    "import pandas as pd\n",
    "import os\n",
    "import numpy as np\n",
    "import matplotlib.pyplot as plt\n",
    "import scipy as sp\n",
    "from scipy.stats import norm\n",
    "from math import log, exp\n",
    "\n",
    "colnames=['Date','Close']\n",
    "NOTEBOOK_ROOT = \"~\\Desktop\\RBC\\Data\"\n",
    "\n",
    "df = pd.read_csv( os.path.join(NOTEBOOK_ROOT, \"SPX.csv\"), skiprows=1,names = colnames, index_col='Date', parse_dates=True)"
   ]
  },
  {
   "cell_type": "code",
   "execution_count": 905,
   "metadata": {},
   "outputs": [
    {
     "data": {
      "text/html": [
       "<div>\n",
       "<style scoped>\n",
       "    .dataframe tbody tr th:only-of-type {\n",
       "        vertical-align: middle;\n",
       "    }\n",
       "\n",
       "    .dataframe tbody tr th {\n",
       "        vertical-align: top;\n",
       "    }\n",
       "\n",
       "    .dataframe thead th {\n",
       "        text-align: right;\n",
       "    }\n",
       "</style>\n",
       "<table border=\"1\" class=\"dataframe\">\n",
       "  <thead>\n",
       "    <tr style=\"text-align: right;\">\n",
       "      <th></th>\n",
       "      <th>Close</th>\n",
       "    </tr>\n",
       "    <tr>\n",
       "      <th>Date</th>\n",
       "      <th></th>\n",
       "    </tr>\n",
       "  </thead>\n",
       "  <tbody>\n",
       "    <tr>\n",
       "      <th>2015-01-01</th>\n",
       "      <td>2058.20</td>\n",
       "    </tr>\n",
       "    <tr>\n",
       "      <th>2015-01-05</th>\n",
       "      <td>2020.58</td>\n",
       "    </tr>\n",
       "    <tr>\n",
       "      <th>2015-01-06</th>\n",
       "      <td>2002.61</td>\n",
       "    </tr>\n",
       "    <tr>\n",
       "      <th>2015-01-07</th>\n",
       "      <td>2025.90</td>\n",
       "    </tr>\n",
       "    <tr>\n",
       "      <th>2015-01-08</th>\n",
       "      <td>2062.14</td>\n",
       "    </tr>\n",
       "  </tbody>\n",
       "</table>\n",
       "</div>"
      ],
      "text/plain": [
       "              Close\n",
       "Date               \n",
       "2015-01-01  2058.20\n",
       "2015-01-05  2020.58\n",
       "2015-01-06  2002.61\n",
       "2015-01-07  2025.90\n",
       "2015-01-08  2062.14"
      ]
     },
     "execution_count": 905,
     "metadata": {},
     "output_type": "execute_result"
    }
   ],
   "source": [
    "df.head()"
   ]
  },
  {
   "cell_type": "code",
   "execution_count": 757,
   "metadata": {},
   "outputs": [
    {
     "data": {
      "text/html": [
       "<div>\n",
       "<style scoped>\n",
       "    .dataframe tbody tr th:only-of-type {\n",
       "        vertical-align: middle;\n",
       "    }\n",
       "\n",
       "    .dataframe tbody tr th {\n",
       "        vertical-align: top;\n",
       "    }\n",
       "\n",
       "    .dataframe thead th {\n",
       "        text-align: right;\n",
       "    }\n",
       "</style>\n",
       "<table border=\"1\" class=\"dataframe\">\n",
       "  <thead>\n",
       "    <tr style=\"text-align: right;\">\n",
       "      <th></th>\n",
       "      <th>Close</th>\n",
       "    </tr>\n",
       "  </thead>\n",
       "  <tbody>\n",
       "    <tr>\n",
       "      <th>count</th>\n",
       "      <td>1072.000000</td>\n",
       "    </tr>\n",
       "    <tr>\n",
       "      <th>mean</th>\n",
       "      <td>2361.583116</td>\n",
       "    </tr>\n",
       "    <tr>\n",
       "      <th>std</th>\n",
       "      <td>303.062073</td>\n",
       "    </tr>\n",
       "    <tr>\n",
       "      <th>min</th>\n",
       "      <td>1829.080000</td>\n",
       "    </tr>\n",
       "    <tr>\n",
       "      <th>25%</th>\n",
       "      <td>2091.020000</td>\n",
       "    </tr>\n",
       "    <tr>\n",
       "      <th>50%</th>\n",
       "      <td>2339.880000</td>\n",
       "    </tr>\n",
       "    <tr>\n",
       "      <th>75%</th>\n",
       "      <td>2658.585000</td>\n",
       "    </tr>\n",
       "    <tr>\n",
       "      <th>max</th>\n",
       "      <td>2930.750000</td>\n",
       "    </tr>\n",
       "  </tbody>\n",
       "</table>\n",
       "</div>"
      ],
      "text/plain": [
       "             Close\n",
       "count  1072.000000\n",
       "mean   2361.583116\n",
       "std     303.062073\n",
       "min    1829.080000\n",
       "25%    2091.020000\n",
       "50%    2339.880000\n",
       "75%    2658.585000\n",
       "max    2930.750000"
      ]
     },
     "execution_count": 757,
     "metadata": {},
     "output_type": "execute_result"
    }
   ],
   "source": [
    "df.describe()"
   ]
  },
  {
   "cell_type": "code",
   "execution_count": 996,
   "metadata": {},
   "outputs": [
    {
     "name": "stdout",
     "output_type": "stream",
     "text": [
      "Number of trading days during the life of the option= 757\n"
     ]
    }
   ],
   "source": [
    "days=len(df['2016-01-04' :'2019-01-04'])\n",
    "print(\"Number of trading days during the life of the option= {}\".format(days))"
   ]
  },
  {
   "cell_type": "markdown",
   "metadata": {},
   "source": [
    "## 1. Black-Scholes formula for the pricing of European Calls"
   ]
  },
  {
   "cell_type": "markdown",
   "metadata": {},
   "source": [
    "$C(S,t)$ is given below, where $S$ is the underlying, $K$ is the strike price, $r$ is the risk-free rate, q is the divend yield, T-t is the time to maturity and $\\sigma$ is the (constant)  annualized volatility of the underlying.\n",
    "\n",
    "\\begin{equation}\n",
    "\tC(S, t)=  Se^{-q(T-t)} N(d_1) -  K  e^{-r(T-t)} N( d_2) \n",
    "\\end{equation}\n",
    "\n",
    "\\begin{equation}\n",
    "\td_1= \\frac{\\ln{\\left(\\frac{S}{K}\\right)} + (T-t)\\left(r -q + \\frac{\\sigma^2}{2} \\right)}{\\sigma \\sqrt{T-t}} \n",
    "\\end{equation}\n",
    "\n",
    "\\begin{equation}\n",
    "\td_2= \\frac{\\ln{\\left(\\frac{S}{K}\\right)} + (T-t)\\left(r -q - \\frac{\\sigma^2}{2} \\right)}{\\sigma \\sqrt{T-t}} \n",
    "\\end{equation}\n",
    "\n",
    "\\begin{equation}\n",
    "\tN(x)=\\frac{1}{\\sqrt{2\\pi}} \\int_{-\\infty}^{x} e^{-\\frac{1}{2}z^2} dz\n",
    "\\end{equation}"
   ]
  },
  {
   "cell_type": "markdown",
   "metadata": {},
   "source": [
    "**Black-Scholes and d1 functions.**"
   ]
  },
  {
   "cell_type": "code",
   "execution_count": 918,
   "metadata": {},
   "outputs": [],
   "source": [
    "def d1(S,K,T,r,q,v):\n",
    "    \n",
    "    \"\"\" \n",
    "    Parameters\n",
    "    ----------\n",
    "    S -> Spot price\n",
    "    K -> Strike price\n",
    "    T-t -> Time to maturirty (assumme t=0)\n",
    "    r -> Risk-free rate\n",
    "    q -> Dividend yield\n",
    "    v -> Volatility\n",
    "           \n",
    "    Returns\n",
    "    --------\n",
    "    Return the upper (lower) bound for a call (put)\n",
    "    \n",
    "    \"\"\"\n",
    "    d= (log(S/K)+((r-q)+v*v/2)*T)/(v*sqrt(T))\n",
    "    \n",
    "    return d"
   ]
  },
  {
   "cell_type": "code",
   "execution_count": 919,
   "metadata": {},
   "outputs": [],
   "source": [
    "def BS(Option,S,K,T,r,q,v):\n",
    "    \n",
    "    \"\"\" \n",
    "    Parameters\n",
    "    ----------\n",
    "    Option -> Call=\"c\", otherrwise it is a Put\n",
    "    S -> Spot price\n",
    "    K -> Strike price\n",
    "    T-t -> Time to maturirty (assumme t=0)\n",
    "    r -> Risk-free rate\n",
    "    q -> Dividend yield\n",
    "    v -> Volatility\n",
    "           \n",
    "    Returns\n",
    "    --------\n",
    "    Return the price for a call or put vanilla option\n",
    "    \n",
    "    \"\"\"\n",
    "    \n",
    "    d_1=d1(S,K,T,r,q,v)\n",
    "    d_2=d_1-v*sqrt(T)\n",
    "    if Option=='c':\n",
    "        C=S*exp(-q*T)*norm.cdf(d_1)-K*exp(-r*T)*norm.cdf(d_2)\n",
    "        return C\n",
    "    else:\n",
    "        P=K*exp(-r*T)*norm.cdf(-d_2)-S*exp(-q*T)*norm.cdf(-d_1)\n",
    "        return P"
   ]
  },
  {
   "cell_type": "code",
   "execution_count": 1080,
   "metadata": {},
   "outputs": [],
   "source": [
    "S=df.loc['2016-01-04', [\"Close\"]].iloc[0]\n",
    "K=2500\n",
    "T=days/252\n",
    "r=0\n",
    "q=0\n",
    "v=0.2"
   ]
  },
  {
   "cell_type": "code",
   "execution_count": 1081,
   "metadata": {},
   "outputs": [
    {
     "name": "stdout",
     "output_type": "stream",
     "text": [
      "\u001b[1mS_0=2012.66\n"
     ]
    }
   ],
   "source": [
    "print( '\\033[1m' \"S_0={}\".format(S))"
   ]
  },
  {
   "cell_type": "code",
   "execution_count": 1082,
   "metadata": {},
   "outputs": [
    {
     "name": "stdout",
     "output_type": "stream",
     "text": [
      "\u001b[1mPrice of a European call=124.767\n"
     ]
    }
   ],
   "source": [
    "Call=BS('c',S,K,T,r,q,v)\n",
    "print('\\033[1m' \"Price of a European call={}\".format(round(Call,3)))"
   ]
  },
  {
   "cell_type": "markdown",
   "metadata": {},
   "source": [
    "## 2. Greeks"
   ]
  },
  {
   "cell_type": "markdown",
   "metadata": {},
   "source": [
    "### Delta"
   ]
  },
  {
   "cell_type": "code",
   "execution_count": 867,
   "metadata": {},
   "outputs": [],
   "source": [
    "def delta(Option, S,K,T,r,q,v):\n",
    "        \n",
    "    \"\"\" \n",
    "    Parameters\n",
    "    ----------\n",
    "    Same as BS function\n",
    "           \n",
    "    Returns\n",
    "    --------\n",
    "    Return the delta for a call or put vanilla option\n",
    "    \n",
    "    \"\"\"    \n",
    "    d_1=d1(S,K,T,r,q,v)\n",
    "    N_d1_call=norm.cdf(d_1)*exp(-q*T)\n",
    "    N_d1_put=-norm.cdf(-d_1)*exp(-q*T)\n",
    "    \n",
    "    if Option=='c':\n",
    "        return N_d1_call\n",
    "    else:\n",
    "        return N_d1_put"
   ]
  },
  {
   "cell_type": "code",
   "execution_count": 916,
   "metadata": {},
   "outputs": [
    {
     "name": "stdout",
     "output_type": "stream",
     "text": [
      "Delta= 0.325\n",
      "\u001b[1m Delta Hedging strategy if a portfolio manager sold call options:\n",
      " Buy 0.325 shares of the underlying stock now. Adjust the shares over time to maintain a delta-neutral portfolio.\n"
     ]
    }
   ],
   "source": [
    "d=round(delta('c', S,K,T,r,q,v),3)\n",
    "print('Delta= {}'. format(d))\n",
    "print( '\\033[1m Delta Hedging strategy if a portfolio manager sold call options:' \n",
    "      '\\n Buy {} shares of the underlying stock now. Adjust the shares over time to maintain a delta-neutral portfolio.'.format(d))"
   ]
  },
  {
   "cell_type": "markdown",
   "metadata": {},
   "source": [
    "### Gamma"
   ]
  },
  {
   "cell_type": "code",
   "execution_count": 869,
   "metadata": {},
   "outputs": [],
   "source": [
    "def gamma(S,K,T,r,q,v):\n",
    "        \n",
    "    \"\"\" \n",
    "    Parameters\n",
    "    ----------\n",
    "    Same as BS function\n",
    "           \n",
    "    Returns\n",
    "    --------\n",
    "    Return the gamma for a call or put vanilla option\n",
    "    \n",
    "    \"\"\"    \n",
    "    d_1=d1(S,K,T,r,q,v)\n",
    "    g=norm.pdf(d_1)*exp(-q*T)/(S*v*sqrt(T))\n",
    "    \n",
    "    return g"
   ]
  },
  {
   "cell_type": "code",
   "execution_count": 886,
   "metadata": {},
   "outputs": [
    {
     "name": "stdout",
     "output_type": "stream",
     "text": [
      "Gamma= 0.00052\n"
     ]
    }
   ],
   "source": [
    "g=round(gamma(S,K,T,r,q,v),5)\n",
    "print( 'Gamma= {}'. format(g))"
   ]
  },
  {
   "cell_type": "markdown",
   "metadata": {},
   "source": [
    "### Vega"
   ]
  },
  {
   "cell_type": "code",
   "execution_count": 871,
   "metadata": {},
   "outputs": [],
   "source": [
    "def vega(S,K,T,r,q,v):  \n",
    "    \"\"\" \n",
    "    Parameters\n",
    "    ----------\n",
    "    Same as BS function\n",
    "           \n",
    "    Returns\n",
    "    --------\n",
    "    Return the gamma for a call or put vanilla option\n",
    "    \n",
    "    \"\"\"    \n",
    "    d_1=d1(S,K,T,r,q,v)\n",
    "    v=norm.pdf(d_1)*S*sqrt(T)*exp(-q*T)\n",
    "    \n",
    "    return v"
   ]
  },
  {
   "cell_type": "code",
   "execution_count": 952,
   "metadata": {},
   "outputs": [
    {
     "name": "stdout",
     "output_type": "stream",
     "text": [
      "Vega= 1255.255\n",
      "\u001b[1mA 1% increase in volatility from 20% to 21% increases the value of the option by approximately 12.552550000000002\n"
     ]
    }
   ],
   "source": [
    "vg=round(vega(S,K,T,r,q,v),3)\n",
    "print('Vega= {}'.format(vg))\n",
    "print( '\\033[1m' 'A 1% increase in volatility from 20% to 21% increases the value of the option by approximately {}'.format(vg*0.01))"
   ]
  },
  {
   "cell_type": "markdown",
   "metadata": {},
   "source": [
    "### Theta"
   ]
  },
  {
   "cell_type": "code",
   "execution_count": 937,
   "metadata": {},
   "outputs": [],
   "source": [
    "def theta(Option, S,K,T,r,q,v):\n",
    "    \"\"\" \n",
    "    Parameters\n",
    "    ----------\n",
    "    Same as BS function\n",
    "           \n",
    "    Returns\n",
    "    --------\n",
    "    Return the theta for a call or put vanilla option\n",
    "    \n",
    "    \"\"\"    \n",
    "    d_1=d1(S,K,T,r,q,v) \n",
    "    d_2 = d_1 - v * sqrt(T)\n",
    "    \n",
    "    if Option=='c':\n",
    "        theta = -S * norm.pdf(d_1) * v *exp(-q*T)/ (2 * sqrt(T)) \\\n",
    "                 +q*S* norm.cdf(d_1)*exp(-q*T) \\\n",
    "                  - r * K * exp(-r*T) * norm.cdf(d_2)\n",
    "        return theta\n",
    "    \n",
    "    else:\n",
    "        theta = -S * norm.pdf(d_1) * v *exp(-q*T)/ (2 * sqrt(T)) \\\n",
    "                  -q*S* norm.cdf(-d_1)*exp(-q*T) \\\n",
    "                  +r * K * exp(-r*T) * norm.cdf(-d_2)\n",
    "        return theta"
   ]
  },
  {
   "cell_type": "code",
   "execution_count": 972,
   "metadata": {},
   "outputs": [
    {
     "name": "stdout",
     "output_type": "stream",
     "text": [
      "Theta= -41.842\n",
      "\u001b[1mTheta is equal to -0.16603968253968254 per trading day\n"
     ]
    }
   ],
   "source": [
    "th=round(theta('c', S,K,T,r,q,v),3)\n",
    "print('Theta= {}'.format(th))\n",
    "print( '\\033[1m' 'Theta is equal to {} per trading day'.format(th/252))"
   ]
  },
  {
   "cell_type": "markdown",
   "metadata": {},
   "source": [
    "### Rho"
   ]
  },
  {
   "cell_type": "markdown",
   "metadata": {},
   "source": [
    "### Option price and greeks over time"
   ]
  },
  {
   "cell_type": "code",
   "execution_count": 1001,
   "metadata": {},
   "outputs": [],
   "source": [
    "def plot_greeks(Time, Option):    \n",
    "    \n",
    "    \"\"\"\n",
    "    Plot option price, delta, gamma and vega over time\n",
    "    \n",
    "    Parameters\n",
    "    ----------\n",
    "    Time\n",
    "    Option -> Call=\"c\", otherrwise it is a Put\n",
    " \n",
    "    \"\"\"\n",
    "\n",
    "    time=np.arange(0.001,3.001,0.001)\n",
    "    bs= []\n",
    "    dt=[]\n",
    "    gm=[]\n",
    "    vg=[]\n",
    "    th=[]\n",
    "    for n in time:\n",
    "        Call = BS(Option,S,K,n,r,q,v)\n",
    "        Delta=delta(Option,S,K,n,r,q,v)\n",
    "        Gamma=gamma(S,K,n,r,q,v)\n",
    "        Vega=vega(S,K,n,r,q,v)*0.01\n",
    "        Theta=theta(Option,S,K,n,r,q,v)/252\n",
    "        bs.append(Call),dt.append(Delta), gm.append(Gamma), vg.append(Vega), th.append(Theta)     \n",
    "          \n",
    "    # Create a figure\n",
    "    fig = plt.figure(figsize=(14,7))\n",
    "    _ = plt.subplots_adjust(wspace = 0.4, hspace = 0.6 )\n",
    "    fig.suptitle('Option Price and Greeks over time', fontweight=\"bold\")\n",
    "\n",
    "    # Createa plot of price over time\n",
    "    ax = fig.add_subplot(2, 3, 1)\n",
    "    _ = ax.plot(time , bs, color=\"blue\")\n",
    "    _ = ax.set_title(\"Option price\", fontweight=\"bold\")\n",
    "    _ = ax.set_xlabel(\"Time (years)\"); _ = ax.set_ylabel(\"Option price\")\n",
    "    \n",
    "    # Createa plot of delta over time\n",
    "    ax = fig.add_subplot(2, 3, 2)\n",
    "    _ = ax.plot(time, dt, color=\"blue\")\n",
    "    _ = ax.set_title(\"Delta\", fontweight=\"bold\")\n",
    "    _ = ax.set_xlabel(\"Time (years)\"); _ = ax.set_ylabel(\"Delta\")\n",
    "    \n",
    "     # Createa plot of gamma over time\n",
    "    ax = fig.add_subplot(2, 3, 3)\n",
    "    _ = ax.plot(time , gm, color=\"blue\")\n",
    "    _ = ax.set_title(\"Gamma\",fontweight=\"bold\")\n",
    "    _ = ax.set_xlabel(\"Time (years)\"); _ = ax.set_ylabel(\"Gamma\")\n",
    "\n",
    "    # Createa plot of vega over time\n",
    "    ax = fig.add_subplot(2, 3, 4)\n",
    "    _ = ax.plot(time, vg, color=\"blue\")\n",
    "    _ = ax.set_title(\"Vega\", fontweight=\"bold\")\n",
    "    _ = ax.set_xlabel(\"Time (years)\"); _ = ax.set_ylabel(\"Vega\")\n",
    "    \n",
    "    # Createa plot of theta over time\n",
    "    ax = fig.add_subplot(2, 3, 5)\n",
    "    _ = ax.plot(time, th, color=\"blue\")\n",
    "    _ = ax.set_title(\"Theta\", fontweight=\"bold\")\n",
    "    _ = ax.set_xlabel(\"Time (years)\"); _ = ax.set_ylabel(\"Theta\")\n",
    "    \n",
    "      \n",
    "    return"
   ]
  },
  {
   "cell_type": "code",
   "execution_count": 1002,
   "metadata": {},
   "outputs": [
    {
     "data": {
      "image/png": "[encoded data removed]",
      "text/plain": [
       "<Figure size 1008x504 with 5 Axes>"
      ]
     },
     "metadata": {
      "needs_background": "light"
     },
     "output_type": "display_data"
    }
   ],
   "source": [
    "plot_greeks(3, 'c')"
   ]
  },
  {
   "cell_type": "markdown",
   "metadata": {},
   "source": [
    "### Realized volatility"
   ]
  },
  {
   "cell_type": "markdown",
   "metadata": {},
   "source": [
    "We can define realized volatility as:"
   ]
  },
  {
   "cell_type": "markdown",
   "metadata": {},
   "source": [
    "\\begin{equation}\n",
    "\t\\sigma=\\sqrt{ \\frac{252}{n-1} \\sum_{i=1}^{n-1} \\left[ log \\left({\\frac{S_{i+1}}{S_i}}\\right)\\right] ^2}\n",
    "\\end{equation}"
   ]
  },
  {
   "cell_type": "markdown",
   "metadata": {},
   "source": [
    "I used a percentage change function instead of a log function to calculate the realized volatility."
   ]
  },
  {
   "cell_type": "code",
   "execution_count": 973,
   "metadata": {},
   "outputs": [],
   "source": [
    "def rvol(df, ndays, date):\n",
    "        \n",
    "    \"\"\" \n",
    "    Parameters\n",
    "    ----------\n",
    "    df -> Dataframe\n",
    "    Days -> Number of days used to estimate volatility\n",
    "    date -> String containing the date on which the realized volatility is calculated\n",
    "   \n",
    "    Returns\n",
    "    --------\n",
    "    Return the realized volatility\n",
    "    \n",
    "    \"\"\"  \n",
    "    pct= df.loc[:date]['Close'].tail(ndays).pct_change()\n",
    "    pct=pct.dropna()\n",
    "    pct=pct**2\n",
    "    pct=pct.sum()\n",
    "    vol=sqrt(pct*252/(ndays-1))  \n",
    "    \n",
    "    return vol"
   ]
  },
  {
   "cell_type": "code",
   "execution_count": 974,
   "metadata": {},
   "outputs": [
    {
     "name": "stdout",
     "output_type": "stream",
     "text": [
      "Realized volatility= 0.198\n"
     ]
    }
   ],
   "source": [
    "rv=round(rvol(df, 100, '2016-01-04' ),3)\n",
    "print(\"Realized volatility= {}\".format(rv))"
   ]
  },
  {
   "cell_type": "markdown",
   "metadata": {},
   "source": [
    "### Option price using realized volatility"
   ]
  },
  {
   "cell_type": "code",
   "execution_count": 975,
   "metadata": {},
   "outputs": [
    {
     "data": {
      "text/plain": [
       "122.09502605804664"
      ]
     },
     "execution_count": 975,
     "metadata": {},
     "output_type": "execute_result"
    }
   ],
   "source": [
    "BS('c',S,K,T,r,q,rv)"
   ]
  },
  {
   "cell_type": "code",
   "execution_count": 976,
   "metadata": {},
   "outputs": [
    {
     "name": "stdout",
     "output_type": "stream",
     "text": [
      "\u001b[1mDifference in the option price using static volatility and realized volatility=2.505922221196215\n"
     ]
    }
   ],
   "source": [
    "diff=BS('c',S,K,T,r,q,v)-BS('c',S,K,T,r,q,rv)\n",
    "print('\\033[1m' 'Difference in the option price using static volatility and realized volatility={}'.format(diff))"
   ]
  },
  {
   "cell_type": "markdown",
   "metadata": {},
   "source": [
    "## 3. Daily PnL"
   ]
  },
  {
   "cell_type": "markdown",
   "metadata": {},
   "source": [
    "We can hedge by taking a stock position that offsets the option’s delta. For instance, **for a short call option, delta hedging  means buying shares**. Because option deltas change as the stock price changes, portfolio managers must continually review and modify their hedging decisions. \n",
    "\n",
    "The the daily PnL (delta hedge) is defined as:\n",
    "\n",
    "\\begin{equation}\n",
    "\tPnL_i=\\Delta_{i-1}(S_i-S_{i-1})-(C_i-C_{i-1})-rB_{i-1}\n",
    "\\end{equation}\n",
    "\n",
    "Where $\\Delta_i$ denote the option delta on day i, $S_i$ the stock price, $C_i$ the option price, and $B_i=\\Delta_{i}S_i-C_i$ is the market value of the portfolio.\n",
    "\n",
    "The last expression is the overnight gain on shares, less the overnight gain on option, less interest owed (carrying cost of purchasing stocks). In the following function we will assumme r=0."
   ]
  },
  {
   "cell_type": "code",
   "execution_count": 1065,
   "metadata": {},
   "outputs": [],
   "source": [
    "def PnL_dh(Option, df, num_cont, date1, date2):\n",
    "\n",
    "    \"\"\" \n",
    "    Parameters\n",
    "    ----------\n",
    "    Option -> Call=\"c\", otherrwise it is a Put\n",
    "    df -> Dataframe\n",
    "    num_cont-> Number of contracts\n",
    "    date1 -> Start date\n",
    "    date2 -> End date\n",
    "           \n",
    "    Returns\n",
    "    --------\n",
    "    Return the realized volatility\n",
    "    \n",
    "    \"\"\"    \n",
    "    spot= df.loc[date1:date2]['Close'].values.tolist()\n",
    "    num_days=len(df[date1:date2])\n",
    "    ttm=list(range(1, num_days+1, 1))[::-1]\n",
    "    \n",
    "    dt=[] \n",
    "    bs=[]\n",
    "    for a, b in zip(spot, ttm):\n",
    "        Call = BS(Option,a,K,b/252,r,q,v)\n",
    "        Delta=delta(Option,a,K,b/252,r,q,v)\n",
    "        bs.append(Call), dt.append(Delta)\n",
    "    df=df.loc[date1:date2].copy()\n",
    "    df['BS'] = bs\n",
    "    df['Delta'] = dt\n",
    "    df['Delta_t-1']=df['Delta'].shift(1).fillna(0) \n",
    "    df['Price_chg']=df['Close'].diff().fillna(0) \n",
    "    df['BS_chg']=df['BS'].diff().fillna(0)\n",
    "    df['PnL']= num_cont*(df['Price_chg']*df['Delta_t-1']- df['BS_chg'])\n",
    "    \n",
    "    return df"
   ]
  },
  {
   "cell_type": "code",
   "execution_count": 1066,
   "metadata": {},
   "outputs": [
    {
     "name": "stdout",
     "output_type": "stream",
     "text": [
      "Accumulated PnL= 88.24369666000693\n"
     ]
    },
    {
     "data": {
      "text/plain": [
       "Text(0.5, 0, 'Date')"
      ]
     },
     "execution_count": 1066,
     "metadata": {},
     "output_type": "execute_result"
    },
    {
     "data": {
      "image/png": "[encoded data removed]",
      "text/plain": [
       "<Figure size 432x288 with 1 Axes>"
      ]
     },
     "metadata": {
      "needs_background": "light"
     },
     "output_type": "display_data"
    }
   ],
   "source": [
    "dh=PnL_dh('c',df,1, '2016-01-04', '2019-01-04')\n",
    "PnL=dh['PnL'].sum()\n",
    "print('Accumulated PnL= {}'.format(PnL))\n",
    "dh['PnL'].plot()\n",
    "plt.title('Daily PnL', fontweight=\"bold\" )\n",
    "plt.ylabel(\"PnL\")\n",
    "plt.xlabel(\"Date\")"
   ]
  },
  {
   "cell_type": "code",
   "execution_count": 1084,
   "metadata": {},
   "outputs": [
    {
     "data": {
      "text/html": [
       "<div>\n",
       "<style scoped>\n",
       "    .dataframe tbody tr th:only-of-type {\n",
       "        vertical-align: middle;\n",
       "    }\n",
       "\n",
       "    .dataframe tbody tr th {\n",
       "        vertical-align: top;\n",
       "    }\n",
       "\n",
       "    .dataframe thead th {\n",
       "        text-align: right;\n",
       "    }\n",
       "</style>\n",
       "<table border=\"1\" class=\"dataframe\">\n",
       "  <thead>\n",
       "    <tr style=\"text-align: right;\">\n",
       "      <th></th>\n",
       "      <th>Close</th>\n",
       "      <th>BS</th>\n",
       "      <th>Delta</th>\n",
       "      <th>Delta_t-1</th>\n",
       "      <th>Price_chg</th>\n",
       "      <th>BS_chg</th>\n",
       "      <th>PnL</th>\n",
       "    </tr>\n",
       "    <tr>\n",
       "      <th>Date</th>\n",
       "      <th></th>\n",
       "      <th></th>\n",
       "      <th></th>\n",
       "      <th></th>\n",
       "      <th></th>\n",
       "      <th></th>\n",
       "      <th></th>\n",
       "    </tr>\n",
       "  </thead>\n",
       "  <tbody>\n",
       "    <tr>\n",
       "      <th>2016-01-04</th>\n",
       "      <td>2012.66</td>\n",
       "      <td>124.766952</td>\n",
       "      <td>0.325558</td>\n",
       "      <td>0.000000</td>\n",
       "      <td>0.00</td>\n",
       "      <td>0.000000</td>\n",
       "      <td>0.000000</td>\n",
       "    </tr>\n",
       "    <tr>\n",
       "      <th>2016-01-05</th>\n",
       "      <td>2016.71</td>\n",
       "      <td>125.922926</td>\n",
       "      <td>0.327461</td>\n",
       "      <td>0.325558</td>\n",
       "      <td>4.05</td>\n",
       "      <td>1.155974</td>\n",
       "      <td>0.162538</td>\n",
       "    </tr>\n",
       "    <tr>\n",
       "      <th>2016-01-06</th>\n",
       "      <td>1990.26</td>\n",
       "      <td>117.280357</td>\n",
       "      <td>0.313626</td>\n",
       "      <td>0.327461</td>\n",
       "      <td>-26.45</td>\n",
       "      <td>-8.642569</td>\n",
       "      <td>-0.018762</td>\n",
       "    </tr>\n",
       "    <tr>\n",
       "      <th>2016-01-07</th>\n",
       "      <td>1943.09</td>\n",
       "      <td>102.904701</td>\n",
       "      <td>0.289282</td>\n",
       "      <td>0.313626</td>\n",
       "      <td>-47.17</td>\n",
       "      <td>-14.375656</td>\n",
       "      <td>-0.418086</td>\n",
       "    </tr>\n",
       "    <tr>\n",
       "      <th>2016-01-08</th>\n",
       "      <td>1922.03</td>\n",
       "      <td>96.776858</td>\n",
       "      <td>0.278400</td>\n",
       "      <td>0.289282</td>\n",
       "      <td>-21.06</td>\n",
       "      <td>-6.127843</td>\n",
       "      <td>0.035554</td>\n",
       "    </tr>\n",
       "    <tr>\n",
       "      <th>2016-01-11</th>\n",
       "      <td>1923.67</td>\n",
       "      <td>97.085636</td>\n",
       "      <td>0.279021</td>\n",
       "      <td>0.278400</td>\n",
       "      <td>1.64</td>\n",
       "      <td>0.308778</td>\n",
       "      <td>0.147798</td>\n",
       "    </tr>\n",
       "    <tr>\n",
       "      <th>2016-01-12</th>\n",
       "      <td>1938.68</td>\n",
       "      <td>101.179166</td>\n",
       "      <td>0.286424</td>\n",
       "      <td>0.279021</td>\n",
       "      <td>15.01</td>\n",
       "      <td>4.093530</td>\n",
       "      <td>0.094570</td>\n",
       "    </tr>\n",
       "    <tr>\n",
       "      <th>2016-01-13</th>\n",
       "      <td>1890.28</td>\n",
       "      <td>87.766789</td>\n",
       "      <td>0.261821</td>\n",
       "      <td>0.286424</td>\n",
       "      <td>-48.40</td>\n",
       "      <td>-13.412377</td>\n",
       "      <td>-0.450560</td>\n",
       "    </tr>\n",
       "    <tr>\n",
       "      <th>2016-01-14</th>\n",
       "      <td>1921.84</td>\n",
       "      <td>96.131318</td>\n",
       "      <td>0.277469</td>\n",
       "      <td>0.261821</td>\n",
       "      <td>31.56</td>\n",
       "      <td>8.364529</td>\n",
       "      <td>-0.101466</td>\n",
       "    </tr>\n",
       "    <tr>\n",
       "      <th>2016-01-15</th>\n",
       "      <td>1880.33</td>\n",
       "      <td>84.907448</td>\n",
       "      <td>0.256436</td>\n",
       "      <td>0.277469</td>\n",
       "      <td>-41.51</td>\n",
       "      <td>-11.223870</td>\n",
       "      <td>-0.293881</td>\n",
       "    </tr>\n",
       "  </tbody>\n",
       "</table>\n",
       "</div>"
      ],
      "text/plain": [
       "              Close          BS     Delta  Delta_t-1  Price_chg     BS_chg  \\\n",
       "Date                                                                         \n",
       "2016-01-04  2012.66  124.766952  0.325558   0.000000       0.00   0.000000   \n",
       "2016-01-05  2016.71  125.922926  0.327461   0.325558       4.05   1.155974   \n",
       "2016-01-06  1990.26  117.280357  0.313626   0.327461     -26.45  -8.642569   \n",
       "2016-01-07  1943.09  102.904701  0.289282   0.313626     -47.17 -14.375656   \n",
       "2016-01-08  1922.03   96.776858  0.278400   0.289282     -21.06  -6.127843   \n",
       "2016-01-11  1923.67   97.085636  0.279021   0.278400       1.64   0.308778   \n",
       "2016-01-12  1938.68  101.179166  0.286424   0.279021      15.01   4.093530   \n",
       "2016-01-13  1890.28   87.766789  0.261821   0.286424     -48.40 -13.412377   \n",
       "2016-01-14  1921.84   96.131318  0.277469   0.261821      31.56   8.364529   \n",
       "2016-01-15  1880.33   84.907448  0.256436   0.277469     -41.51 -11.223870   \n",
       "\n",
       "                 PnL  \n",
       "Date                  \n",
       "2016-01-04  0.000000  \n",
       "2016-01-05  0.162538  \n",
       "2016-01-06 -0.018762  \n",
       "2016-01-07 -0.418086  \n",
       "2016-01-08  0.035554  \n",
       "2016-01-11  0.147798  \n",
       "2016-01-12  0.094570  \n",
       "2016-01-13 -0.450560  \n",
       "2016-01-14 -0.101466  \n",
       "2016-01-15 -0.293881  "
      ]
     },
     "execution_count": 1084,
     "metadata": {},
     "output_type": "execute_result"
    }
   ],
   "source": [
    "dh.head(10)"
   ]
  },
  {
   "cell_type": "code",
   "execution_count": 1068,
   "metadata": {},
   "outputs": [
    {
     "data": {
      "text/html": [
       "<div>\n",
       "<style scoped>\n",
       "    .dataframe tbody tr th:only-of-type {\n",
       "        vertical-align: middle;\n",
       "    }\n",
       "\n",
       "    .dataframe tbody tr th {\n",
       "        vertical-align: top;\n",
       "    }\n",
       "\n",
       "    .dataframe thead th {\n",
       "        text-align: right;\n",
       "    }\n",
       "</style>\n",
       "<table border=\"1\" class=\"dataframe\">\n",
       "  <thead>\n",
       "    <tr style=\"text-align: right;\">\n",
       "      <th></th>\n",
       "      <th>Close</th>\n",
       "      <th>BS</th>\n",
       "      <th>Delta</th>\n",
       "      <th>Delta_t-1</th>\n",
       "      <th>Price_chg</th>\n",
       "      <th>BS_chg</th>\n",
       "      <th>PnL</th>\n",
       "    </tr>\n",
       "  </thead>\n",
       "  <tbody>\n",
       "    <tr>\n",
       "      <th>count</th>\n",
       "      <td>757.000000</td>\n",
       "      <td>757.000000</td>\n",
       "      <td>757.000000</td>\n",
       "      <td>757.000000</td>\n",
       "      <td>757.000000</td>\n",
       "      <td>757.000000</td>\n",
       "      <td>757.000000</td>\n",
       "    </tr>\n",
       "    <tr>\n",
       "      <th>mean</th>\n",
       "      <td>2429.801691</td>\n",
       "      <td>217.373272</td>\n",
       "      <td>0.546546</td>\n",
       "      <td>0.545430</td>\n",
       "      <td>0.685971</td>\n",
       "      <td>-0.119187</td>\n",
       "      <td>0.116570</td>\n",
       "    </tr>\n",
       "    <tr>\n",
       "      <th>std</th>\n",
       "      <td>285.545909</td>\n",
       "      <td>91.245763</td>\n",
       "      <td>0.195693</td>\n",
       "      <td>0.196398</td>\n",
       "      <td>20.369905</td>\n",
       "      <td>13.028234</td>\n",
       "      <td>1.113923</td>\n",
       "    </tr>\n",
       "    <tr>\n",
       "      <th>min</th>\n",
       "      <td>1829.080000</td>\n",
       "      <td>1.492446</td>\n",
       "      <td>0.044058</td>\n",
       "      <td>0.000000</td>\n",
       "      <td>-113.190000</td>\n",
       "      <td>-86.330112</td>\n",
       "      <td>-21.864421</td>\n",
       "    </tr>\n",
       "    <tr>\n",
       "      <th>25%</th>\n",
       "      <td>2169.180000</td>\n",
       "      <td>142.435137</td>\n",
       "      <td>0.377828</td>\n",
       "      <td>0.377523</td>\n",
       "      <td>-5.910000</td>\n",
       "      <td>-3.087223</td>\n",
       "      <td>0.160475</td>\n",
       "    </tr>\n",
       "    <tr>\n",
       "      <th>50%</th>\n",
       "      <td>2435.610000</td>\n",
       "      <td>203.454194</td>\n",
       "      <td>0.505575</td>\n",
       "      <td>0.505038</td>\n",
       "      <td>1.000000</td>\n",
       "      <td>0.188072</td>\n",
       "      <td>0.239808</td>\n",
       "    </tr>\n",
       "    <tr>\n",
       "      <th>75%</th>\n",
       "      <td>2689.860000</td>\n",
       "      <td>282.513660</td>\n",
       "      <td>0.709420</td>\n",
       "      <td>0.708921</td>\n",
       "      <td>9.660000</td>\n",
       "      <td>4.450482</td>\n",
       "      <td>0.326273</td>\n",
       "    </tr>\n",
       "    <tr>\n",
       "      <th>max</th>\n",
       "      <td>2930.750000</td>\n",
       "      <td>444.859324</td>\n",
       "      <td>0.970556</td>\n",
       "      <td>0.970556</td>\n",
       "      <td>116.600000</td>\n",
       "      <td>55.183614</td>\n",
       "      <td>3.292995</td>\n",
       "    </tr>\n",
       "  </tbody>\n",
       "</table>\n",
       "</div>"
      ],
      "text/plain": [
       "             Close          BS       Delta   Delta_t-1   Price_chg  \\\n",
       "count   757.000000  757.000000  757.000000  757.000000  757.000000   \n",
       "mean   2429.801691  217.373272    0.546546    0.545430    0.685971   \n",
       "std     285.545909   91.245763    0.195693    0.196398   20.369905   \n",
       "min    1829.080000    1.492446    0.044058    0.000000 -113.190000   \n",
       "25%    2169.180000  142.435137    0.377828    0.377523   -5.910000   \n",
       "50%    2435.610000  203.454194    0.505575    0.505038    1.000000   \n",
       "75%    2689.860000  282.513660    0.709420    0.708921    9.660000   \n",
       "max    2930.750000  444.859324    0.970556    0.970556  116.600000   \n",
       "\n",
       "           BS_chg         PnL  \n",
       "count  757.000000  757.000000  \n",
       "mean    -0.119187    0.116570  \n",
       "std     13.028234    1.113923  \n",
       "min    -86.330112  -21.864421  \n",
       "25%     -3.087223    0.160475  \n",
       "50%      0.188072    0.239808  \n",
       "75%      4.450482    0.326273  \n",
       "max     55.183614    3.292995  "
      ]
     },
     "execution_count": 1068,
     "metadata": {},
     "output_type": "execute_result"
    }
   ],
   "source": [
    "dh.describe()"
   ]
  },
  {
   "cell_type": "markdown",
   "metadata": {},
   "source": [
    "### Daily PnL using Gamma and Theta"
   ]
  },
  {
   "cell_type": "markdown",
   "metadata": {},
   "source": [
    "Clearly, delta, gamma, and theta all play a role in determining the profit on a delta-hedged position. Using Ito's lemma we can get the Black-Scholes equation for an European calll by solving the folowing PDE subject to boundary conditions:\n",
    "\n",
    "\n",
    "\\begin{equation}\n",
    "\t \\frac{\\partial C}{\\partial t} + \\frac{1}{2}\\sigma^2 s^2\\frac{\\partial^2 C}{\\partial S^2}+rS\\frac{\\partial C}{\\partial S}-rC=0\n",
    "\\end{equation}\n",
    "\n",
    "We can apply this concept in discrete time to get PnL over a period of lenght h.\n",
    "\n",
    "\\begin{equation}\n",
    "\tPnL=\\Delta_{t}(S_{t+h}-S_{t})-(C_{t+h}-C_{t})-rh(\\Delta_t S_t -C_t)\n",
    "\\end{equation}\n",
    "\n",
    "\\begin{equation}\n",
    "\tPnL=\\Delta_{t}(S_{t+h}-S_{t})-[\\Delta_t(S_{t+h}-S_t)+\\frac{1}{2}(S_{t+h}-S_t)^2 \\Gamma_t + \\theta_t h]-rh(\\Delta_t S_t -C_t)\n",
    "\\end{equation}\n",
    "\n",
    "\\begin{equation}\n",
    "\tPnL=-h \\Bigg ( \\frac{1}{2} \\sigma^2 S_t^2 \\Gamma_t^2 + \\theta_t +r \\Big[ \\Delta_t S_t -C_t \\Big ]   \\Bigg )\n",
    "\\end{equation}"
   ]
  },
  {
   "cell_type": "code",
   "execution_count": 1104,
   "metadata": {},
   "outputs": [],
   "source": [
    "def profit(Option, df, num_cont, date1, date2, h, v):\n",
    "\n",
    "    \"\"\" \n",
    "    Parameters\n",
    "    ----------\n",
    "    Option -> Call=\"c\", otherrwise it is a Put\n",
    "    df -> Dataframe\n",
    "    num_cont-> Number of contracts\n",
    "    date1 -> Start date\n",
    "    date2 -> End date\n",
    "    h-> Period of lenght h (1/252)\n",
    "           \n",
    "    Returns\n",
    "    --------\n",
    "    Return the realized volatility\n",
    "    \n",
    "    \"\"\"    \n",
    "    spot= df.loc[date1:date2]['Close'].values.tolist()\n",
    "    num_days=len(df[date1:date2])\n",
    "    ttm=list(range(1, num_days+1, 1))[::-1]\n",
    "    \n",
    "    gm=[] \n",
    "    th=[]\n",
    "    for a, b in zip(spot, ttm):\n",
    "        Gamma = gamma(a,K,b/252,r,q,v)\n",
    "        Theta=theta(Option,a,K,b/252,r,q,v)\n",
    "        gm.append(Gamma), th.append(Theta)\n",
    "    df=df.loc[date1:date2].copy()\n",
    "    df['Gamma'] = gm\n",
    "    df['Theta'] = th\n",
    "    df['PnL']= -num_cont*h*(0.5* v**2 * df['Close']**2 * df['Gamma'] + df['Theta'])\n",
    "    \n",
    "    return df"
   ]
  },
  {
   "cell_type": "code",
   "execution_count": 1106,
   "metadata": {},
   "outputs": [
    {
     "name": "stdout",
     "output_type": "stream",
     "text": [
      "Accumulated PnL= -2.3741150139285885e-14\n"
     ]
    },
    {
     "data": {
      "text/plain": [
       "Text(0.5, 0, 'Date')"
      ]
     },
     "execution_count": 1106,
     "metadata": {},
     "output_type": "execute_result"
    },
    {
     "data": {
      "image/png": "[encoded data removed]",
      "text/plain": [
       "<Figure size 432x288 with 1 Axes>"
      ]
     },
     "metadata": {
      "needs_background": "light"
     },
     "output_type": "display_data"
    }
   ],
   "source": [
    "h=1/252\n",
    "pf=profit('c',df,1, '2016-01-04', '2019-01-04', h, v)\n",
    "PnL=pf['PnL'].sum()\n",
    "print('Accumulated PnL= {}'.format(PnL))\n",
    "dh['PnL'].plot()\n",
    "plt.title('Daily PnL', fontweight=\"bold\" )\n",
    "plt.ylabel(\"PnL\")\n",
    "plt.xlabel(\"Date\")"
   ]
  },
  {
   "cell_type": "markdown",
   "metadata": {},
   "source": [
    "## 4. Explaining results"
   ]
  }
 ],
 "metadata": {
  "kernelspec": {
   "display_name": "Python 3",
   "language": "python",
   "name": "python3"
  },
  "language_info": {
   "codemirror_mode": {
    "name": "ipython",
    "version": 3
   },
   "file_extension": ".py",
   "mimetype": "text/x-python",
   "name": "python",
   "nbconvert_exporter": "python",
   "pygments_lexer": "ipython3",
   "version": "3.7.1"
  }
 },
 "nbformat": 4,
 "nbformat_minor": 2
}

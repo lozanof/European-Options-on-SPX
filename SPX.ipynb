{
 "cells": [
  {
   "cell_type": "markdown",
   "metadata": {},
   "source": [
    "# European Options on SPX"
   ]
  },
  {
   "cell_type": "markdown",
   "metadata": {},
   "source": [
    "## Overview\n",
    "\n",
    "## Goals\n",
    "- Define a function to calculate the price of a European Call using the Black-Scholes formula\n",
    "    - We assume an interest rate and dividend yield equal to zero.\n",
    "- Find the sensitivity in option value to change in the underlying, volatility and interest rate\n",
    "    -Plot the sensitivities over time.\n",
    "- Compute the daily PnL"
   ]
  },
  {
   "cell_type": "markdown",
   "metadata": {},
   "source": [
    "### Getting the data"
   ]
  },
  {
   "cell_type": "code",
   "execution_count": 135,
   "metadata": {},
   "outputs": [],
   "source": [
    "import pandas as pd\n",
    "import os\n",
    "import numpy as np\n",
    "import matplotlib.pyplot as plt\n",
    "from scipy.stats import norm\n",
    "from math import log, exp, sqrt\n",
    "\n",
    "colnames=['Date','PX_Last']\n",
    "NOTEBOOK_ROOT = \"~\\Desktop\\Project\\Data\"\n",
    "\n",
    "df = pd.read_csv(os.path.join(NOTEBOOK_ROOT, \"SPX.csv\"), skiprows=1,names = colnames, index_col='Date', parse_dates=True)\n",
    "df_index = pd.to_datetime(df.index)"
   ]
  },
  {
   "cell_type": "code",
   "execution_count": 32,
   "metadata": {},
   "outputs": [
    {
     "data": {
      "image/png": "[encoded data removed]",
      "text/plain": [
       "<Figure size 432x288 with 1 Axes>"
      ]
     },
     "metadata": {
      "needs_background": "light"
     },
     "output_type": "display_data"
    }
   ],
   "source": [
    "df.plot()\n",
    "plt.show()"
   ]
  },
  {
   "cell_type": "code",
   "execution_count": 129,
   "metadata": {},
   "outputs": [
    {
     "data": {
      "text/html": [
       "<div>\n",
       "<style scoped>\n",
       "    .dataframe tbody tr th:only-of-type {\n",
       "        vertical-align: middle;\n",
       "    }\n",
       "\n",
       "    .dataframe tbody tr th {\n",
       "        vertical-align: top;\n",
       "    }\n",
       "\n",
       "    .dataframe thead th {\n",
       "        text-align: right;\n",
       "    }\n",
       "</style>\n",
       "<table border=\"1\" class=\"dataframe\">\n",
       "  <thead>\n",
       "    <tr style=\"text-align: right;\">\n",
       "      <th></th>\n",
       "      <th>PX_Last</th>\n",
       "      <th>rvol</th>\n",
       "    </tr>\n",
       "  </thead>\n",
       "  <tbody>\n",
       "    <tr>\n",
       "      <th>count</th>\n",
       "      <td>1072.000000</td>\n",
       "      <td>0.0</td>\n",
       "    </tr>\n",
       "    <tr>\n",
       "      <th>mean</th>\n",
       "      <td>2361.583116</td>\n",
       "      <td>NaN</td>\n",
       "    </tr>\n",
       "    <tr>\n",
       "      <th>std</th>\n",
       "      <td>303.062073</td>\n",
       "      <td>NaN</td>\n",
       "    </tr>\n",
       "    <tr>\n",
       "      <th>min</th>\n",
       "      <td>1829.080000</td>\n",
       "      <td>NaN</td>\n",
       "    </tr>\n",
       "    <tr>\n",
       "      <th>25%</th>\n",
       "      <td>2091.020000</td>\n",
       "      <td>NaN</td>\n",
       "    </tr>\n",
       "    <tr>\n",
       "      <th>50%</th>\n",
       "      <td>2339.880000</td>\n",
       "      <td>NaN</td>\n",
       "    </tr>\n",
       "    <tr>\n",
       "      <th>75%</th>\n",
       "      <td>2658.585000</td>\n",
       "      <td>NaN</td>\n",
       "    </tr>\n",
       "    <tr>\n",
       "      <th>max</th>\n",
       "      <td>2930.750000</td>\n",
       "      <td>NaN</td>\n",
       "    </tr>\n",
       "  </tbody>\n",
       "</table>\n",
       "</div>"
      ],
      "text/plain": [
       "           PX_Last  rvol\n",
       "count  1072.000000   0.0\n",
       "mean   2361.583116   NaN\n",
       "std     303.062073   NaN\n",
       "min    1829.080000   NaN\n",
       "25%    2091.020000   NaN\n",
       "50%    2339.880000   NaN\n",
       "75%    2658.585000   NaN\n",
       "max    2930.750000   NaN"
      ]
     },
     "execution_count": 129,
     "metadata": {},
     "output_type": "execute_result"
    }
   ],
   "source": [
    "df.describe()"
   ]
  },
  {
   "cell_type": "code",
   "execution_count": 34,
   "metadata": {},
   "outputs": [
    {
     "name": "stdout",
     "output_type": "stream",
     "text": [
      "Number of trading days during the life of the option= 757\n"
     ]
    }
   ],
   "source": [
    "days=len(df['2016-01-04' :'2019-01-04'])\n",
    "print(\"Number of trading days during the life of the option= {}\".format(days))"
   ]
  },
  {
   "cell_type": "markdown",
   "metadata": {},
   "source": [
    "## 1. Black-Scholes formula for the pricing of European Calls"
   ]
  },
  {
   "cell_type": "markdown",
   "metadata": {},
   "source": [
    "$C(S,t)$ is given below, where $S$ is the underlying, $K$ is the strike price, $r$ is the risk-free rate, q is the divend yield, T-t is the time to maturity and $\\sigma$ is the (constant)  annualized volatility of the underlying.\n",
    "\n",
    "\\begin{equation}\n",
    "\tC(S, t)=  Se^{-q(T-t)} N(d_1) -  K  e^{-r(T-t)} N( d_2) \n",
    "\\end{equation}\n",
    "\n",
    "\\begin{equation}\n",
    "\td_1= \\frac{\\ln{\\left(\\frac{S}{K}\\right)} + (T-t)\\left(r -q + \\frac{\\sigma^2}{2} \\right)}{\\sigma \\sqrt{T-t}} \n",
    "\\end{equation}\n",
    "\n",
    "\\begin{equation}\n",
    "\td_2= \\frac{\\ln{\\left(\\frac{S}{K}\\right)} + (T-t)\\left(r -q - \\frac{\\sigma^2}{2} \\right)}{\\sigma \\sqrt{T-t}} \n",
    "\\end{equation}\n",
    "\n",
    "\\begin{equation}\n",
    "\tN(x)=\\frac{1}{\\sqrt{2\\pi}} \\int_{-\\infty}^{x} e^{-\\frac{1}{2}z^2} dz\n",
    "\\end{equation}"
   ]
  },
  {
   "cell_type": "markdown",
   "metadata": {},
   "source": [
    "**Black-Scholes and d1 functions.**"
   ]
  },
  {
   "cell_type": "code",
   "execution_count": 35,
   "metadata": {},
   "outputs": [],
   "source": [
    "def d1(S,K,T,r,q,v):\n",
    "    \n",
    "    \"\"\" \n",
    "    Parameters\n",
    "    ----------\n",
    "    S -> Spot price\n",
    "    K -> Strike price\n",
    "    T-t -> Time to maturirty (assumme t=0)\n",
    "    r -> Risk-free rate\n",
    "    q -> Dividend yield\n",
    "    v -> Volatility\n",
    "           \n",
    "    Returns\n",
    "    --------\n",
    "    Formula for d1\n",
    "    \n",
    "    \"\"\"\n",
    "    d= (log(S/K)+((r-q)+v*v/2)*T)/(v*sqrt(T))\n",
    "    \n",
    "    return d"
   ]
  },
  {
   "cell_type": "code",
   "execution_count": 36,
   "metadata": {},
   "outputs": [],
   "source": [
    "def BS(Option,S,K,T,r,q,v):\n",
    "    \n",
    "    \"\"\" \n",
    "    Parameters\n",
    "    ----------\n",
    "    Option -> Call=\"c\", otherwise, it is a Put\n",
    "    S -> Spot price\n",
    "    K -> Strike price\n",
    "    T-t -> Time to maturirty (assumme t=0)\n",
    "    r -> Risk-free rate\n",
    "    q -> Dividend yield\n",
    "    v -> Volatility\n",
    "           \n",
    "    Returns\n",
    "    --------\n",
    "    Price for a call or put vanilla option\n",
    "    \n",
    "    \"\"\"\n",
    "    \n",
    "    d_1=d1(S,K,T,r,q,v)\n",
    "    d_2=d_1-v*sqrt(T)\n",
    "    if Option=='c':\n",
    "        C=S*exp(-q*T)*norm.cdf(d_1)-K*exp(-r*T)*norm.cdf(d_2)\n",
    "        return C\n",
    "    else:\n",
    "        P=K*exp(-r*T)*norm.cdf(-d_2)-S*exp(-q*T)*norm.cdf(-d_1)\n",
    "        return P"
   ]
  },
  {
   "cell_type": "markdown",
   "metadata": {},
   "source": [
    "Global variables"
   ]
  },
  {
   "cell_type": "code",
   "execution_count": 37,
   "metadata": {},
   "outputs": [],
   "source": [
    "S=df.loc['2016-01-04', [\"PX_Last\"]].iloc[0]\n",
    "K=2500\n",
    "T=days/252\n",
    "r=0\n",
    "q=0\n",
    "v=0.2"
   ]
  },
  {
   "cell_type": "code",
   "execution_count": 38,
   "metadata": {},
   "outputs": [
    {
     "name": "stdout",
     "output_type": "stream",
     "text": [
      "\u001b[1mS_0=2012.66\n"
     ]
    }
   ],
   "source": [
    "print( '\\033[1m' \"S_0={}\".format(S))"
   ]
  },
  {
   "cell_type": "code",
   "execution_count": 39,
   "metadata": {},
   "outputs": [
    {
     "name": "stdout",
     "output_type": "stream",
     "text": [
      "\u001b[1mPrice of a European call=124.767\n"
     ]
    }
   ],
   "source": [
    "Call=BS('c',S,K,T,r,q,v)\n",
    "print('\\033[1m' \"Price of a European call={}\".format(round(Call,3)))"
   ]
  },
  {
   "cell_type": "markdown",
   "metadata": {},
   "source": [
    "## 2. Greeks"
   ]
  },
  {
   "cell_type": "markdown",
   "metadata": {},
   "source": [
    "### Delta"
   ]
  },
  {
   "cell_type": "code",
   "execution_count": 40,
   "metadata": {},
   "outputs": [],
   "source": [
    "def delta(Option, S,K,T,r,q,v):\n",
    "        \n",
    "    \"\"\" \n",
    "    Parameters\n",
    "    ----------\n",
    "    Same as BS function\n",
    "           \n",
    "    Returns\n",
    "    --------\n",
    "    Delta for a call or put vanilla option\n",
    "    \n",
    "    \"\"\"    \n",
    "    d_1=d1(S,K,T,r,q,v)\n",
    "    N_d1_call=norm.cdf(d_1)*exp(-q*T)\n",
    "    N_d1_put=-norm.cdf(-d_1)*exp(-q*T)\n",
    "    \n",
    "    if Option=='c':\n",
    "        return N_d1_call\n",
    "    else:\n",
    "        return N_d1_put"
   ]
  },
  {
   "cell_type": "code",
   "execution_count": 41,
   "metadata": {},
   "outputs": [
    {
     "name": "stdout",
     "output_type": "stream",
     "text": [
      "Delta= 0.326\n",
      "\u001b[1m Delta Hedging strategy if a portfolio manager sold call options:\n",
      " Buy 0.326 shares of the underlying stock now. Adjust the shares over time to maintain a delta-neutral portfolio.\n"
     ]
    }
   ],
   "source": [
    "d=round(delta('c', S,K,T,r,q,v),3)\n",
    "print('Delta= {}'. format(d))\n",
    "print( '\\033[1m Delta Hedging strategy if a portfolio manager sold call options:' \n",
    "      '\\n Buy {} shares of the underlying stock now. Adjust the shares over time to maintain a delta-neutral portfolio.'.format(d))"
   ]
  },
  {
   "cell_type": "markdown",
   "metadata": {},
   "source": [
    "### Gamma"
   ]
  },
  {
   "cell_type": "code",
   "execution_count": 42,
   "metadata": {},
   "outputs": [],
   "source": [
    "def gamma(S,K,T,r,q,v):\n",
    "        \n",
    "    \"\"\" \n",
    "    Parameters\n",
    "    ----------\n",
    "    Same as BS function\n",
    "           \n",
    "    Returns\n",
    "    --------\n",
    "    Gamma for a European option\n",
    "    \n",
    "    \"\"\"    \n",
    "    d_1=d1(S,K,T,r,q,v)\n",
    "    g=norm.pdf(d_1)*exp(-q*T)/(S*v*sqrt(T))\n",
    "    \n",
    "    return g"
   ]
  },
  {
   "cell_type": "code",
   "execution_count": 43,
   "metadata": {},
   "outputs": [
    {
     "name": "stdout",
     "output_type": "stream",
     "text": [
      "Gamma= 0.00052\n"
     ]
    }
   ],
   "source": [
    "g=round(gamma(S,K,T,r,q,v),5)\n",
    "print( 'Gamma= {}'. format(g))"
   ]
  },
  {
   "cell_type": "markdown",
   "metadata": {},
   "source": [
    "### Vega"
   ]
  },
  {
   "cell_type": "code",
   "execution_count": 44,
   "metadata": {},
   "outputs": [],
   "source": [
    "def vega(S,K,T,r,q,v):  \n",
    "    \"\"\" \n",
    "    Parameters\n",
    "    ----------\n",
    "    Same as BS function\n",
    "           \n",
    "    Returns\n",
    "    --------\n",
    "    Vega for a European option\n",
    "    \n",
    "    \"\"\"    \n",
    "    d_1=d1(S,K,T,r,q,v)\n",
    "    v=norm.pdf(d_1)*S*sqrt(T)*exp(-q*T)\n",
    "    \n",
    "    return v"
   ]
  },
  {
   "cell_type": "code",
   "execution_count": 45,
   "metadata": {},
   "outputs": [
    {
     "name": "stdout",
     "output_type": "stream",
     "text": [
      "Vega= 1256.385\n",
      "\u001b[1mA 1% increase in volatility from 20% to 21% increases the value of the option by approximately 12.56385\n"
     ]
    }
   ],
   "source": [
    "vg=round(vega(S,K,T,r,q,v),3)\n",
    "print('Vega= {}'.format(vg))\n",
    "print( '\\033[1m' 'A 1% increase in volatility from 20% to 21% increases the value of the option by approximately {}'.format(vg*0.01))"
   ]
  },
  {
   "cell_type": "markdown",
   "metadata": {},
   "source": [
    "### Theta"
   ]
  },
  {
   "cell_type": "code",
   "execution_count": 46,
   "metadata": {},
   "outputs": [],
   "source": [
    "def theta(Option, S,K,T,r,q,v):\n",
    "    \"\"\" \n",
    "    Parameters\n",
    "    ----------\n",
    "    Same as BS function\n",
    "           \n",
    "    Returns\n",
    "    --------\n",
    "    Theta for a call or put vanilla option\n",
    "    \n",
    "    \"\"\"    \n",
    "    d_1=d1(S,K,T,r,q,v) \n",
    "    d_2 = d_1 - v * sqrt(T)\n",
    "    \n",
    "    if Option=='c':\n",
    "        theta = -S * norm.pdf(d_1) * v *exp(-q*T)/ (2 * sqrt(T)) \\\n",
    "                 +q*S* norm.cdf(d_1)*exp(-q*T) \\\n",
    "                  - r * K * exp(-r*T) * norm.cdf(d_2)\n",
    "        return theta\n",
    "    \n",
    "    else:\n",
    "        theta = -S * norm.pdf(d_1) * v *exp(-q*T)/ (2 * sqrt(T)) \\\n",
    "                  -q*S* norm.cdf(-d_1)*exp(-q*T) \\\n",
    "                  +r * K * exp(-r*T) * norm.cdf(-d_2)\n",
    "        return theta"
   ]
  },
  {
   "cell_type": "code",
   "execution_count": 47,
   "metadata": {},
   "outputs": [
    {
     "name": "stdout",
     "output_type": "stream",
     "text": [
      "Theta= -41.824\n",
      "\u001b[1mTheta is equal to -0.16596825396825396 per trading day.\n"
     ]
    }
   ],
   "source": [
    "th=round(theta('c', S,K,T,r,q,v),3)\n",
    "print('Theta= {}'.format(th))\n",
    "print( '\\033[1m' 'Theta is equal to {} per trading day.'.format(th/252))"
   ]
  },
  {
   "cell_type": "markdown",
   "metadata": {},
   "source": [
    "### Rho"
   ]
  },
  {
   "cell_type": "code",
   "execution_count": 48,
   "metadata": {},
   "outputs": [],
   "source": [
    "def rho(Option, S,K,T,r,q,v):\n",
    "    \"\"\" \n",
    "    Parameters\n",
    "    ----------\n",
    "    Same as BS function\n",
    "           \n",
    "    Returns\n",
    "    --------\n",
    "    Rho for a call or put vanilla option\n",
    "    \n",
    "    \"\"\"    \n",
    "    d_1=d1(S,K,T,r,q,v) \n",
    "    d_2 = d_1-v* sqrt(T)\n",
    "    \n",
    "    if Option=='c':\n",
    "        rh=K*T*norm.cdf(d_2)*exp(-r*T)\n",
    "        return rh\n",
    "    \n",
    "    else:\n",
    "        rh=-K*T*exp(-r*T)*norm.cdf(-d_2)* exp(-r*T)\n",
    "        return rh"
   ]
  },
  {
   "cell_type": "code",
   "execution_count": 49,
   "metadata": {},
   "outputs": [
    {
     "name": "stdout",
     "output_type": "stream",
     "text": [
      "Rho= 1593.519\n",
      "\u001b[1mA 1% increase in the interest rate increases the value of the option by approximately 15.93519\n"
     ]
    }
   ],
   "source": [
    "rh=round(rho('c', S,K,T,r,q,v),3)\n",
    "print('Rho= {}'.format(rh))\n",
    "print( '\\033[1m' 'A 1% increase in the interest rate increases the value of the option by approximately {}'.format(rh*0.01))"
   ]
  },
  {
   "cell_type": "markdown",
   "metadata": {},
   "source": [
    "### Option price and greeks over time"
   ]
  },
  {
   "cell_type": "code",
   "execution_count": 50,
   "metadata": {},
   "outputs": [],
   "source": [
    "def plot_greeks(Time, Option):    \n",
    "    \n",
    "    \"\"\"\n",
    "    \n",
    "    Parameters\n",
    "    ----------\n",
    "    Time -> Time to maturity\n",
    "    Option -> Call=\"c\", otherwise, it is a Put\n",
    "    \n",
    "    Returns\n",
    "    --------\n",
    "    Graph of option price, delta, gamma, theta, vega and rho over time\n",
    " \n",
    "    \"\"\"\n",
    "\n",
    "    time=np.arange(0.001,3.001,0.001)\n",
    "    bs= []\n",
    "    dt=[]\n",
    "    gm=[]\n",
    "    vg=[]\n",
    "    th=[]\n",
    "    rh=[]\n",
    "    for n in time:\n",
    "        Call = BS(Option,S,K,n,r,q,v)\n",
    "        Delta=delta(Option,S,K,n,r,q,v)\n",
    "        Gamma=gamma(S,K,n,r,q,v)\n",
    "        Vega=vega(S,K,n,r,q,v)*0.01\n",
    "        Theta=theta(Option,S,K,n,r,q,v)/252\n",
    "        Rho=rho(Option,S,K,n,r,q,v)*0.01\n",
    "        bs.append(Call),dt.append(Delta), gm.append(Gamma), vg.append(Vega), th.append(Theta), rh.append(Rho)        \n",
    "          \n",
    "    # Create a figure\n",
    "    fig = plt.figure(figsize=(14,7))\n",
    "    _ = plt.subplots_adjust(wspace = 0.4, hspace = 0.6 )\n",
    "    fig.suptitle('Option Price and Greeks over time', fontweight=\"bold\")\n",
    "\n",
    "    # Createa plot of price over time\n",
    "    ax = fig.add_subplot(2, 3, 1)\n",
    "    _ = ax.plot(time , bs, color=\"blue\")\n",
    "    _ = ax.set_title(\"Option price\", fontweight=\"bold\")\n",
    "    _ = ax.set_xlabel(\"Time (years)\"); _ = ax.set_ylabel(\"Option price\")\n",
    "    \n",
    "    # Createa plot of delta over time\n",
    "    ax = fig.add_subplot(2, 3, 2)\n",
    "    _ = ax.plot(time, dt, color=\"blue\")\n",
    "    _ = ax.set_title(\"Delta\", fontweight=\"bold\")\n",
    "    _ = ax.set_xlabel(\"Time (years)\"); _ = ax.set_ylabel(\"Delta\")\n",
    "    \n",
    "     # Createa plot of gamma over time\n",
    "    ax = fig.add_subplot(2, 3, 3)\n",
    "    _ = ax.plot(time , gm, color=\"blue\")\n",
    "    _ = ax.set_title(\"Gamma\",fontweight=\"bold\")\n",
    "    _ = ax.set_xlabel(\"Time (years)\"); _ = ax.set_ylabel(\"Gamma\")\n",
    "\n",
    "    # Createa plot of vega over time\n",
    "    ax = fig.add_subplot(2, 3, 4)\n",
    "    _ = ax.plot(time, vg, color=\"blue\")\n",
    "    _ = ax.set_title(\"Vega\", fontweight=\"bold\")\n",
    "    _ = ax.set_xlabel(\"Time (years)\"); _ = ax.set_ylabel(\"Vega\")\n",
    "    \n",
    "    # Createa plot of theta over time\n",
    "    ax = fig.add_subplot(2, 3, 5)\n",
    "    _ = ax.plot(time, th, color=\"blue\")\n",
    "    _ = ax.set_title(\"Theta\", fontweight=\"bold\")\n",
    "    _ = ax.set_xlabel(\"Time (years)\"); _ = ax.set_ylabel(\"Theta\")\n",
    "    \n",
    "    # Createa plot of rho over time\n",
    "    ax = fig.add_subplot(2, 3, 6)\n",
    "    _ = ax.plot(time, rh, color=\"blue\")\n",
    "    _ = ax.set_title(\"Rho\", fontweight=\"bold\")\n",
    "    _ = ax.set_xlabel(\"Time (years)\"); _ = ax.set_ylabel(\"Rho\")\n",
    "    \n",
    "      \n",
    "    return"
   ]
  },
  {
   "cell_type": "code",
   "execution_count": 51,
   "metadata": {},
   "outputs": [
    {
     "data": {
      "image/png": "[encoded data removed]",
      "text/plain": [
       "<Figure size 1008x504 with 6 Axes>"
      ]
     },
     "metadata": {
      "needs_background": "light"
     },
     "output_type": "display_data"
    }
   ],
   "source": [
    "plot_greeks(3, 'c')"
   ]
  },
  {
   "cell_type": "markdown",
   "metadata": {},
   "source": [
    "### Realized volatility"
   ]
  },
  {
   "cell_type": "markdown",
   "metadata": {},
   "source": [
    "We can define realized volatility as:"
   ]
  },
  {
   "cell_type": "markdown",
   "metadata": {},
   "source": [
    "\\begin{equation}\n",
    "\t\\sigma=\\sqrt{ \\frac{252}{n} \\sum_{i=1}^{n-1} \\left[ log \\left({\\frac{S_{i+1}}{S_i}}\\right)\\right] ^2}\n",
    "\\end{equation}\n",
    "\n",
    "Reference: https://eu.spindices.com/indices/strategy/sp-500-3-month-realized-volatility-index"
   ]
  },
  {
   "cell_type": "markdown",
   "metadata": {},
   "source": [
    "In the function below I used a percentage change function instead of a log function to calculate the realized volatility."
   ]
  },
  {
   "cell_type": "code",
   "execution_count": 210,
   "metadata": {},
   "outputs": [],
   "source": [
    "def rvol(df, df_index, ndays):\n",
    "        \n",
    "    \"\"\" \n",
    "    Parameters\n",
    "    ----------\n",
    "    df -> Dataframe\n",
    "    ndays -> Number of days used to estimate realized volatility\n",
    "    df_index ->  Date column\n",
    "   \n",
    "    Returns\n",
    "    --------\n",
    "    Realized volatility \n",
    "    \n",
    "    \"\"\" \n",
    "    time=df.loc[df_index].values.tolist()\n",
    "    rvol=[]\n",
    "    for d in df_index[ndays:]:\n",
    "        pct= df.loc[:d]['PX_Last'].tail(ndays).pct_change()\n",
    "        pct=pct.dropna()\n",
    "        pct=pct**2\n",
    "        pct=pct.sum()\n",
    "        vol=sqrt(pct*252/(ndays))\n",
    "        rvol.append(vol)\n",
    "    df_vol = pd.DataFrame(rvol, df_index[100:], columns=['Volatility'])\n",
    "    \n",
    "    return df_vol"
   ]
  },
  {
   "cell_type": "code",
   "execution_count": 212,
   "metadata": {},
   "outputs": [
    {
     "data": {
      "image/png": "[encoded data removed]",
      "text/plain": [
       "<Figure size 432x288 with 1 Axes>"
      ]
     },
     "metadata": {
      "needs_background": "light"
     },
     "output_type": "display_data"
    }
   ],
   "source": [
    "realized_vol=rvol(df, df_index, 100)\n",
    "realized_vol.plot()\n",
    "plt.title('100-D Realized Volatility')\n",
    "plt.show()"
   ]
  },
  {
   "cell_type": "code",
   "execution_count": 214,
   "metadata": {},
   "outputs": [
    {
     "name": "stdout",
     "output_type": "stream",
     "text": [
      "\u001b[1mRealized volatility as of '2016-01-04'= 0.19676558124588042\n"
     ]
    }
   ],
   "source": [
    "rv=realized_vol['Volatility']\n",
    "print('\\033[1m' \"Realized volatility as of '2016-01-04'= {}\".format(rv['2016-01-04']))"
   ]
  },
  {
   "cell_type": "code",
   "execution_count": 215,
   "metadata": {},
   "outputs": [
    {
     "data": {
      "text/plain": [
       "[0.19676558124588042, 0.1967810978979004]"
      ]
     },
     "execution_count": 215,
     "metadata": {},
     "output_type": "execute_result"
    }
   ],
   "source": [
    "rv_3=realized_vol.loc['2016-01-04':'2016-01-05']['Volatility'].values.tolist()\n",
    "rv_3"
   ]
  },
  {
   "cell_type": "markdown",
   "metadata": {},
   "source": [
    "### Option price using realized volatility"
   ]
  },
  {
   "cell_type": "code",
   "execution_count": 24,
   "metadata": {},
   "outputs": [
    {
     "data": {
      "text/plain": [
       "123.51170786131513"
      ]
     },
     "execution_count": 24,
     "metadata": {},
     "output_type": "execute_result"
    }
   ],
   "source": [
    "BS('c',S,K,T,r,q,rv)"
   ]
  },
  {
   "cell_type": "code",
   "execution_count": 25,
   "metadata": {},
   "outputs": [
    {
     "name": "stdout",
     "output_type": "stream",
     "text": [
      "\u001b[1mDifference in the option price using static volatility and realized volatility=1.2552443507063344\n"
     ]
    }
   ],
   "source": [
    "diff=BS('c',S,K,T,r,q,v)-BS('c',S,K,T,r,q,rv)\n",
    "print('\\033[1m' 'Difference in the option price using static volatility and realized volatility={}'.format(diff))"
   ]
  },
  {
   "cell_type": "markdown",
   "metadata": {},
   "source": [
    "## 3. Daily PnL"
   ]
  },
  {
   "cell_type": "markdown",
   "metadata": {},
   "source": [
    "We can hedge by taking a stock position that offsets the option’s delta. For instance, **for a short call option, delta hedging means buying shares**. Because option deltas change as the stock price changes, portfolio managers must continually review and modify their hedging decisions. \n",
    "\n",
    "The daily PnL (delta hedge) is defined as:\n",
    "\n",
    "\\begin{equation}\n",
    "    PnL_i=\\Delta_{i-1}(S_i-S_{i-1})-(C_i-C_{i-1})-rB_{i-1}\n",
    "\\end{equation}\n",
    "\n",
    "Where $\\Delta_i$ denote the option delta on day i, $S_i$ the stock price, $C_i$ the option price, and $B_i=\\Delta_{i}S_i-C_i$ is the market value of the portfolio.\n",
    "\n",
    "The last expression is the overnight gain on shares, less the overnight gain on option, less interest owed (carrying cost of purchasing stocks). In the following function, we will assume r=0."
   ]
  },
  {
   "cell_type": "code",
   "execution_count": 218,
   "metadata": {},
   "outputs": [],
   "source": [
    "def PnL_dh(Option, df_vol, df, num_cont, date1, date2):\n",
    "\n",
    "    \"\"\" \n",
    "    Parameters\n",
    "    ----------\n",
    "    Option -> Call=\"c\", otherwise, it is a Put\n",
    "    v-> Volatility\n",
    "    df -> Dataframe\n",
    "    num_cont-> Number of contracts\n",
    "    date1 -> Start date\n",
    "    date2 -> End date\n",
    "           \n",
    "    Returns\n",
    "    --------\n",
    "    Daily PnL using delta hedging\n",
    "    \n",
    "    \"\"\"    \n",
    "    spot= df.loc[date1:date2]['PX_Last'].values.tolist()\n",
    "    rv=df_vol.loc[date1:date2]['Volatility'].values.tolist()\n",
    "    num_days=len(df[date1:date2])    \n",
    "    ttm=list(range(1, num_days+1, 1))[::-1]\n",
    "    \n",
    "    dt=[] \n",
    "    bs=[]\n",
    "    for a, b,c in zip(spot, ttm,rv):\n",
    "        Call = BS(Option,a,K,b/252,r,q,c)\n",
    "        Delta=delta(Option,a,K,b/252,r,q,c)\n",
    "        bs.append(Call), dt.append(Delta)\n",
    "    df=df.loc[date1:date2].copy()\n",
    "    df['BS'] = bs\n",
    "    df['Delta'] = dt\n",
    "    df['Delta_t-1']=df['Delta'].shift(1).fillna(0) \n",
    "    df['Price_chg']=df['PX_Last'].diff().fillna(0) \n",
    "    df['BS_chg']=df['BS'].diff().fillna(0)\n",
    "    df['PnL']= num_cont*(df['Price_chg']*df['Delta_t-1']- df['BS_chg'])\n",
    "    \n",
    "    return df"
   ]
  },
  {
   "cell_type": "code",
   "execution_count": 236,
   "metadata": {},
   "outputs": [
    {
     "name": "stdout",
     "output_type": "stream",
     "text": [
      "\u001b[1mAccumulated PnL (using realized volatility)= 10.555575698370859\n"
     ]
    },
    {
     "data": {
      "image/png": "[encoded data removed]",
      "text/plain": [
       "<Figure size 432x288 with 1 Axes>"
      ]
     },
     "metadata": {
      "needs_background": "light"
     },
     "output_type": "display_data"
    }
   ],
   "source": [
    "dh=PnL_dh('c', realized_vol, df,1, '2016-01-04', '2019-01-04')\n",
    "PnL=dh['PnL'].sum()\n",
    "print('\\033[1m' 'Accumulated PnL (using realized volatility)= {}'.format(PnL))\n",
    "dh['PnL'].plot()\n",
    "plt.title('Daily PnL', fontweight=\"bold\" )\n",
    "plt.ylabel(\"PnL\")\n",
    "plt.xlabel(\"Date\")\n",
    "plt.show()"
   ]
  },
  {
   "cell_type": "code",
   "execution_count": 237,
   "metadata": {},
   "outputs": [
    {
     "data": {
      "text/html": [
       "<div>\n",
       "<style scoped>\n",
       "    .dataframe tbody tr th:only-of-type {\n",
       "        vertical-align: middle;\n",
       "    }\n",
       "\n",
       "    .dataframe tbody tr th {\n",
       "        vertical-align: top;\n",
       "    }\n",
       "\n",
       "    .dataframe thead th {\n",
       "        text-align: right;\n",
       "    }\n",
       "</style>\n",
       "<table border=\"1\" class=\"dataframe\">\n",
       "  <thead>\n",
       "    <tr style=\"text-align: right;\">\n",
       "      <th></th>\n",
       "      <th>PX_Last</th>\n",
       "      <th>BS</th>\n",
       "      <th>Delta</th>\n",
       "      <th>Delta_t-1</th>\n",
       "      <th>Price_chg</th>\n",
       "      <th>BS_chg</th>\n",
       "      <th>PnL</th>\n",
       "    </tr>\n",
       "    <tr>\n",
       "      <th>Date</th>\n",
       "      <th></th>\n",
       "      <th></th>\n",
       "      <th></th>\n",
       "      <th></th>\n",
       "      <th></th>\n",
       "      <th></th>\n",
       "      <th></th>\n",
       "    </tr>\n",
       "  </thead>\n",
       "  <tbody>\n",
       "    <tr>\n",
       "      <th>2016-01-04</th>\n",
       "      <td>2012.66</td>\n",
       "      <td>120.715341</td>\n",
       "      <td>0.320860</td>\n",
       "      <td>0.000000</td>\n",
       "      <td>0.00</td>\n",
       "      <td>0.000000</td>\n",
       "      <td>0.000000</td>\n",
       "    </tr>\n",
       "    <tr>\n",
       "      <th>2016-01-05</th>\n",
       "      <td>2016.71</td>\n",
       "      <td>121.875442</td>\n",
       "      <td>0.322805</td>\n",
       "      <td>0.320860</td>\n",
       "      <td>4.05</td>\n",
       "      <td>1.160101</td>\n",
       "      <td>0.139380</td>\n",
       "    </tr>\n",
       "    <tr>\n",
       "      <th>2016-01-06</th>\n",
       "      <td>1990.26</td>\n",
       "      <td>114.577214</td>\n",
       "      <td>0.310334</td>\n",
       "      <td>0.322805</td>\n",
       "      <td>-26.45</td>\n",
       "      <td>-7.298228</td>\n",
       "      <td>-1.239977</td>\n",
       "    </tr>\n",
       "    <tr>\n",
       "      <th>2016-01-07</th>\n",
       "      <td>1943.09</td>\n",
       "      <td>104.238048</td>\n",
       "      <td>0.291062</td>\n",
       "      <td>0.310334</td>\n",
       "      <td>-47.17</td>\n",
       "      <td>-10.339166</td>\n",
       "      <td>-4.299278</td>\n",
       "    </tr>\n",
       "    <tr>\n",
       "      <th>2016-01-08</th>\n",
       "      <td>1922.03</td>\n",
       "      <td>98.845392</td>\n",
       "      <td>0.281284</td>\n",
       "      <td>0.291062</td>\n",
       "      <td>-21.06</td>\n",
       "      <td>-5.392656</td>\n",
       "      <td>-0.737113</td>\n",
       "    </tr>\n",
       "  </tbody>\n",
       "</table>\n",
       "</div>"
      ],
      "text/plain": [
       "            PX_Last          BS     Delta  Delta_t-1  Price_chg     BS_chg  \\\n",
       "Date                                                                         \n",
       "2016-01-04  2012.66  120.715341  0.320860   0.000000       0.00   0.000000   \n",
       "2016-01-05  2016.71  121.875442  0.322805   0.320860       4.05   1.160101   \n",
       "2016-01-06  1990.26  114.577214  0.310334   0.322805     -26.45  -7.298228   \n",
       "2016-01-07  1943.09  104.238048  0.291062   0.310334     -47.17 -10.339166   \n",
       "2016-01-08  1922.03   98.845392  0.281284   0.291062     -21.06  -5.392656   \n",
       "\n",
       "                 PnL  \n",
       "Date                  \n",
       "2016-01-04  0.000000  \n",
       "2016-01-05  0.139380  \n",
       "2016-01-06 -1.239977  \n",
       "2016-01-07 -4.299278  \n",
       "2016-01-08 -0.737113  "
      ]
     },
     "execution_count": 237,
     "metadata": {},
     "output_type": "execute_result"
    }
   ],
   "source": [
    "dh.head(5)"
   ]
  },
  {
   "cell_type": "code",
   "execution_count": 238,
   "metadata": {},
   "outputs": [
    {
     "data": {
      "text/html": [
       "<div>\n",
       "<style scoped>\n",
       "    .dataframe tbody tr th:only-of-type {\n",
       "        vertical-align: middle;\n",
       "    }\n",
       "\n",
       "    .dataframe tbody tr th {\n",
       "        vertical-align: top;\n",
       "    }\n",
       "\n",
       "    .dataframe thead th {\n",
       "        text-align: right;\n",
       "    }\n",
       "</style>\n",
       "<table border=\"1\" class=\"dataframe\">\n",
       "  <thead>\n",
       "    <tr style=\"text-align: right;\">\n",
       "      <th></th>\n",
       "      <th>PX_Last</th>\n",
       "      <th>BS</th>\n",
       "      <th>Delta</th>\n",
       "      <th>Delta_t-1</th>\n",
       "      <th>Price_chg</th>\n",
       "      <th>BS_chg</th>\n",
       "      <th>PnL</th>\n",
       "    </tr>\n",
       "  </thead>\n",
       "  <tbody>\n",
       "    <tr>\n",
       "      <th>count</th>\n",
       "      <td>757.000000</td>\n",
       "      <td>757.000000</td>\n",
       "      <td>757.000000</td>\n",
       "      <td>757.000000</td>\n",
       "      <td>757.000000</td>\n",
       "      <td>757.000000</td>\n",
       "      <td>757.000000</td>\n",
       "    </tr>\n",
       "    <tr>\n",
       "      <th>mean</th>\n",
       "      <td>2429.801691</td>\n",
       "      <td>137.148344</td>\n",
       "      <td>0.514689</td>\n",
       "      <td>0.513580</td>\n",
       "      <td>0.685971</td>\n",
       "      <td>-0.113615</td>\n",
       "      <td>0.013944</td>\n",
       "    </tr>\n",
       "    <tr>\n",
       "      <th>std</th>\n",
       "      <td>285.545909</td>\n",
       "      <td>112.201378</td>\n",
       "      <td>0.282786</td>\n",
       "      <td>0.283156</td>\n",
       "      <td>20.369905</td>\n",
       "      <td>13.755573</td>\n",
       "      <td>2.322073</td>\n",
       "    </tr>\n",
       "    <tr>\n",
       "      <th>min</th>\n",
       "      <td>1829.080000</td>\n",
       "      <td>0.718793</td>\n",
       "      <td>0.025966</td>\n",
       "      <td>0.000000</td>\n",
       "      <td>-113.190000</td>\n",
       "      <td>-94.300096</td>\n",
       "      <td>-24.844866</td>\n",
       "    </tr>\n",
       "    <tr>\n",
       "      <th>25%</th>\n",
       "      <td>2169.180000</td>\n",
       "      <td>49.694412</td>\n",
       "      <td>0.259858</td>\n",
       "      <td>0.259546</td>\n",
       "      <td>-5.910000</td>\n",
       "      <td>-3.063848</td>\n",
       "      <td>-0.153291</td>\n",
       "    </tr>\n",
       "    <tr>\n",
       "      <th>50%</th>\n",
       "      <td>2435.610000</td>\n",
       "      <td>81.082553</td>\n",
       "      <td>0.395503</td>\n",
       "      <td>0.394812</td>\n",
       "      <td>1.000000</td>\n",
       "      <td>-0.252213</td>\n",
       "      <td>0.100051</td>\n",
       "    </tr>\n",
       "    <tr>\n",
       "      <th>75%</th>\n",
       "      <td>2689.860000</td>\n",
       "      <td>233.292471</td>\n",
       "      <td>0.780030</td>\n",
       "      <td>0.779173</td>\n",
       "      <td>9.660000</td>\n",
       "      <td>3.566756</td>\n",
       "      <td>0.415416</td>\n",
       "    </tr>\n",
       "    <tr>\n",
       "      <th>max</th>\n",
       "      <td>2930.750000</td>\n",
       "      <td>430.757902</td>\n",
       "      <td>0.999962</td>\n",
       "      <td>0.999962</td>\n",
       "      <td>116.600000</td>\n",
       "      <td>59.505614</td>\n",
       "      <td>13.298118</td>\n",
       "    </tr>\n",
       "  </tbody>\n",
       "</table>\n",
       "</div>"
      ],
      "text/plain": [
       "           PX_Last          BS       Delta   Delta_t-1   Price_chg  \\\n",
       "count   757.000000  757.000000  757.000000  757.000000  757.000000   \n",
       "mean   2429.801691  137.148344    0.514689    0.513580    0.685971   \n",
       "std     285.545909  112.201378    0.282786    0.283156   20.369905   \n",
       "min    1829.080000    0.718793    0.025966    0.000000 -113.190000   \n",
       "25%    2169.180000   49.694412    0.259858    0.259546   -5.910000   \n",
       "50%    2435.610000   81.082553    0.395503    0.394812    1.000000   \n",
       "75%    2689.860000  233.292471    0.780030    0.779173    9.660000   \n",
       "max    2930.750000  430.757902    0.999962    0.999962  116.600000   \n",
       "\n",
       "           BS_chg         PnL  \n",
       "count  757.000000  757.000000  \n",
       "mean    -0.113615    0.013944  \n",
       "std     13.755573    2.322073  \n",
       "min    -94.300096  -24.844866  \n",
       "25%     -3.063848   -0.153291  \n",
       "50%     -0.252213    0.100051  \n",
       "75%      3.566756    0.415416  \n",
       "max     59.505614   13.298118  "
      ]
     },
     "execution_count": 238,
     "metadata": {},
     "output_type": "execute_result"
    }
   ],
   "source": [
    "dh.describe()"
   ]
  },
  {
   "cell_type": "markdown",
   "metadata": {},
   "source": [
    "**Daily PnL using static volatility (0.2)**"
   ]
  },
  {
   "cell_type": "code",
   "execution_count": 239,
   "metadata": {},
   "outputs": [],
   "source": [
    "sv=[0.2]*len(df_index[100:])\n",
    "Stat_Vol=pd.DataFrame(sv, df_index[100:], columns=['Volatility'])"
   ]
  },
  {
   "cell_type": "code",
   "execution_count": 240,
   "metadata": {},
   "outputs": [
    {
     "name": "stdout",
     "output_type": "stream",
     "text": [
      "\u001b[1mAccumulated PnL (using static volatility)= 88.24369666000693\n"
     ]
    },
    {
     "data": {
      "image/png": "[encoded data removed]",
      "text/plain": [
       "<Figure size 432x288 with 1 Axes>"
      ]
     },
     "metadata": {
      "needs_background": "light"
     },
     "output_type": "display_data"
    }
   ],
   "source": [
    "dh_sv=PnL_dh('c',Stat_Vol, df,1, '2016-01-04', '2019-01-04')\n",
    "PnL=dh_sv['PnL'].sum()\n",
    "print('\\033[1m' 'Accumulated PnL (using static volatility)= {}'.format(PnL))\n",
    "dh_sv['PnL'].plot()\n",
    "plt.title('Daily PnL', fontweight=\"bold\" )\n",
    "plt.ylabel(\"PnL\")\n",
    "plt.xlabel(\"Date\")\n",
    "plt.show()"
   ]
  },
  {
   "cell_type": "markdown",
   "metadata": {},
   "source": [
    "### Daily PnL using Gamma and Theta"
   ]
  },
  {
   "cell_type": "markdown",
   "metadata": {},
   "source": [
    "Clearly, delta, gamma, and theta all play a role in determining the profit on a delta-hedged position. Using Ito's lemma, we can get the Black-Scholes equation for a European call by solving the following PDE subject to boundary conditions:\n",
    "\n",
    "\n",
    "\\begin{equation}\n",
    "\t \\frac{\\partial C}{\\partial t} + \\frac{1}{2}\\sigma^2 s^2\\frac{\\partial^2 C}{\\partial S^2}+rS\\frac{\\partial C}{\\partial S}-rC=0\n",
    "\\end{equation}\n",
    "\n",
    "We can apply this concept in discrete time to get PnL over a period of length h.\n",
    "\n",
    "\\begin{equation}\n",
    "\tPnL=\\Delta_{t}(S_{t+h}-S_{t})-(C_{t+h}-C_{t})-rh(\\Delta_t S_t -C_t)\n",
    "\\end{equation}\n",
    "\n",
    "\\begin{equation}\n",
    "\tPnL=\\Delta_{t}(S_{t+h}-S_{t})-[\\Delta_t(S_{t+h}-S_t)+\\frac{1}{2}(S_{t+h}-S_t)^2 \\Gamma_t + \\theta_t h]-rh(\\Delta_t S_t -C_t)\n",
    "\\end{equation}\n",
    "\n",
    "\\begin{equation}\n",
    "\tPnL=-h \\Bigg ( \\frac{1}{2} \\sigma^2 S_t^2 \\Gamma_t+ \\theta_t +r \\Big[ \\Delta_t S_t -C_t \\Big ]   \\Bigg )\n",
    "\\end{equation}"
   ]
  },
  {
   "cell_type": "code",
   "execution_count": 304,
   "metadata": {},
   "outputs": [],
   "source": [
    "def profit(Option, df_vol, df, num_cont, date1, date2, h):\n",
    "\n",
    "    \"\"\" \n",
    "    Parameters\n",
    "    ----------\n",
    "    Option -> Call=\"c\", otherwise, it is a Put\n",
    "    df_volt -> Realized volatility column\n",
    "    df -> Dataframe\n",
    "    num_cont-> Number of contracts\n",
    "    date1 -> Start date\n",
    "    date2 -> End date\n",
    "    h-> Period of length  h (i.e. 1/252) \n",
    "           \n",
    "    Returns\n",
    "    --------\n",
    "    Daily PnL using gamma and theta\n",
    "    \n",
    "    \"\"\"    \n",
    "    spot= df.loc[date1:date2]['PX_Last'].values.tolist()\n",
    "    rv=df_vol.loc[date1:date2]['Volatility'].values.tolist()\n",
    "    num_days=len(df[date1:date2])\n",
    "    ttm=list(range(1, num_days+1, 1))[::-1]\n",
    "    \n",
    "    gm=[] \n",
    "    th=[]\n",
    "    for a, b, c in zip(spot, ttm, rv):\n",
    "        Gamma = gamma(a,K,b/252,r,q,c)\n",
    "        Theta=theta(Option,a,K,b/252,r,q,c)\n",
    "        gm.append(Gamma), th.append(Theta)\n",
    "    df=df.loc[date1:date2].copy()\n",
    "    df['Gamma'] = gm\n",
    "    df['Theta'] = th\n",
    "    df['Vol'] = rv\n",
    "    df['PnL']=-num_cont*h*(0.5* (df['Vol']**2) * (df['PX_Last']**2) * df['Gamma'] + df['Theta'])\n",
    "    \n",
    "     #-num_cont*h*(0.5* (df['Vol']**2) * (df['PX_Last']**2) * df['Gamma'] + df['Theta'])\n",
    "    \n",
    "    return df"
   ]
  },
  {
   "cell_type": "code",
   "execution_count": 305,
   "metadata": {},
   "outputs": [
    {
     "name": "stdout",
     "output_type": "stream",
     "text": [
      "Accumulated PnL= -2.452843924444665e-16\n"
     ]
    },
    {
     "data": {
      "image/png": "[encoded data removed]",
      "text/plain": [
       "<Figure size 432x288 with 1 Axes>"
      ]
     },
     "metadata": {
      "needs_background": "light"
     },
     "output_type": "display_data"
    }
   ],
   "source": [
    "h=1/252\n",
    "pf=profit('c',realized_vol, df,1, '2016-01-04', '2019-01-04', h)\n",
    "PnL=pf['PnL'].sum()\n",
    "print('Accumulated PnL= {}'.format(PnL))\n",
    "dh['PnL'].plot()\n",
    "plt.title('Daily PnL', fontweight=\"bold\" )\n",
    "plt.ylabel(\"PnL\")\n",
    "plt.xlabel(\"Date\")\n",
    "plt.show()"
   ]
  },
  {
   "cell_type": "code",
   "execution_count": 306,
   "metadata": {},
   "outputs": [
    {
     "data": {
      "text/html": [
       "<div>\n",
       "<style scoped>\n",
       "    .dataframe tbody tr th:only-of-type {\n",
       "        vertical-align: middle;\n",
       "    }\n",
       "\n",
       "    .dataframe tbody tr th {\n",
       "        vertical-align: top;\n",
       "    }\n",
       "\n",
       "    .dataframe thead th {\n",
       "        text-align: right;\n",
       "    }\n",
       "</style>\n",
       "<table border=\"1\" class=\"dataframe\">\n",
       "  <thead>\n",
       "    <tr style=\"text-align: right;\">\n",
       "      <th></th>\n",
       "      <th>PX_Last</th>\n",
       "      <th>Gamma</th>\n",
       "      <th>Theta</th>\n",
       "      <th>Vol</th>\n",
       "      <th>PnL</th>\n",
       "    </tr>\n",
       "    <tr>\n",
       "      <th>Date</th>\n",
       "      <th></th>\n",
       "      <th></th>\n",
       "      <th></th>\n",
       "      <th></th>\n",
       "      <th></th>\n",
       "    </tr>\n",
       "  </thead>\n",
       "  <tbody>\n",
       "    <tr>\n",
       "      <th>2016-01-04</th>\n",
       "      <td>2012.66</td>\n",
       "      <td>0.000522</td>\n",
       "      <td>-40.901513</td>\n",
       "      <td>0.196766</td>\n",
       "      <td>2.819614e-17</td>\n",
       "    </tr>\n",
       "    <tr>\n",
       "      <th>2016-01-05</th>\n",
       "      <td>2016.71</td>\n",
       "      <td>0.000522</td>\n",
       "      <td>-41.117270</td>\n",
       "      <td>0.196781</td>\n",
       "      <td>-2.819614e-17</td>\n",
       "    </tr>\n",
       "    <tr>\n",
       "      <th>2016-01-06</th>\n",
       "      <td>1990.26</td>\n",
       "      <td>0.000518</td>\n",
       "      <td>-40.134461</td>\n",
       "      <td>0.197782</td>\n",
       "      <td>2.819614e-17</td>\n",
       "    </tr>\n",
       "    <tr>\n",
       "      <th>2016-01-07</th>\n",
       "      <td>1943.09</td>\n",
       "      <td>0.000507</td>\n",
       "      <td>-38.741030</td>\n",
       "      <td>0.201159</td>\n",
       "      <td>-0.000000e+00</td>\n",
       "    </tr>\n",
       "    <tr>\n",
       "      <th>2016-01-08</th>\n",
       "      <td>1922.03</td>\n",
       "      <td>0.000503</td>\n",
       "      <td>-37.858810</td>\n",
       "      <td>0.201850</td>\n",
       "      <td>2.819614e-17</td>\n",
       "    </tr>\n",
       "  </tbody>\n",
       "</table>\n",
       "</div>"
      ],
      "text/plain": [
       "            PX_Last     Gamma      Theta       Vol           PnL\n",
       "Date                                                            \n",
       "2016-01-04  2012.66  0.000522 -40.901513  0.196766  2.819614e-17\n",
       "2016-01-05  2016.71  0.000522 -41.117270  0.196781 -2.819614e-17\n",
       "2016-01-06  1990.26  0.000518 -40.134461  0.197782  2.819614e-17\n",
       "2016-01-07  1943.09  0.000507 -38.741030  0.201159 -0.000000e+00\n",
       "2016-01-08  1922.03  0.000503 -37.858810  0.201850  2.819614e-17"
      ]
     },
     "execution_count": 306,
     "metadata": {},
     "output_type": "execute_result"
    }
   ],
   "source": [
    "pf.head(5)"
   ]
  },
  {
   "cell_type": "markdown",
   "metadata": {},
   "source": [
    "Now, I will use squared change in the stock price ($\\epsilon^2$) instead of $\\sigma^2 S_t^2$, the PnL equation becomes:\n",
    "    \n",
    "\\begin{equation}\n",
    "    PnL=-h \\Bigg ( \\frac{1}{2} \\epsilon^2 \\Gamma_t^2 + \\theta_t +r \\Big[ \\Delta_t S_t -C_t \\Big ]   \\Bigg )\n",
    "\\end{equation}\n",
    "\n",
    "The reason for this is because of the unrealistic assumption of the constant implied volatility over time."
   ]
  },
  {
   "cell_type": "markdown",
   "metadata": {},
   "source": [
    "## 4. Explaining results"
   ]
  },
  {
   "cell_type": "code",
   "execution_count": null,
   "metadata": {},
   "outputs": [],
   "source": []
  }
 ],
 "metadata": {
  "kernelspec": {
   "display_name": "Python 3",
   "language": "python",
   "name": "python3"
  },
  "language_info": {
   "codemirror_mode": {
    "name": "ipython",
    "version": 3
   },
   "file_extension": ".py",
   "mimetype": "text/x-python",
   "name": "python",
   "nbconvert_exporter": "python",
   "pygments_lexer": "ipython3",
   "version": "3.7.1"
  }
 },
 "nbformat": 4,
 "nbformat_minor": 2
}
